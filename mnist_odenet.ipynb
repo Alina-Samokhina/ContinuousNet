{
 "cells": [
  {
   "cell_type": "code",
   "execution_count": 1,
   "metadata": {
    "colab": {
     "base_uri": "https://localhost:8080/",
     "height": 225
    },
    "colab_type": "code",
    "executionInfo": {
     "elapsed": 8354,
     "status": "ok",
     "timestamp": 1574729266585,
     "user": {
      "displayName": "Alejandro Queiruga",
      "photoUrl": "",
      "userId": "08519531982283031247"
     },
     "user_tz": 480
    },
    "id": "q5EErKRVe6k8",
    "outputId": "69159d3b-a0d6-42fd-a2b2-21fc06c3cdd3"
   },
   "outputs": [
    {
     "name": "stdout",
     "output_type": "stream",
     "text": [
      "Collecting git+https://github.com/rtqichen/torchdiffeq.git\n",
      "  Cloning https://github.com/rtqichen/torchdiffeq.git to /tmp/pip-req-build-ixutkq5_\n",
      "  Running command git clone -q https://github.com/rtqichen/torchdiffeq.git /tmp/pip-req-build-ixutkq5_\n",
      "Requirement already satisfied: torch>=0.4.1 in /usr/local/lib/python3.6/dist-packages (from torchdiffeq==0.0.1) (1.3.1)\n",
      "Requirement already satisfied: numpy in /usr/local/lib/python3.6/dist-packages (from torch>=0.4.1->torchdiffeq==0.0.1) (1.17.4)\n",
      "Building wheels for collected packages: torchdiffeq\n",
      "  Building wheel for torchdiffeq (setup.py) ... \u001b[?25l\u001b[?25hdone\n",
      "  Created wheel for torchdiffeq: filename=torchdiffeq-0.0.1-cp36-none-any.whl size=25885 sha256=6af3f0b1dd78dc7e67ae1620c8896f16c9dd7c24024f8010aa0a8f2b3030d53b\n",
      "  Stored in directory: /tmp/pip-ephem-wheel-cache-w0iccj63/wheels/f1/89/ce/78b4c1aabbb8dad56a2dbd776f9ffcbeca103b2ddae40d094b\n",
      "Successfully built torchdiffeq\n",
      "Installing collected packages: torchdiffeq\n",
      "Successfully installed torchdiffeq-0.0.1\n"
     ]
    }
   ],
   "source": [
    "!pip install git+https://github.com/rtqichen/torchdiffeq.git"
   ]
  },
  {
   "cell_type": "code",
   "execution_count": null,
   "metadata": {
    "colab": {},
    "colab_type": "code",
    "id": "oFJYaZiCgOYW"
   },
   "outputs": [],
   "source": [
    "import torch\n",
    "import torchvision\n",
    "from matplotlib import pylab as plt\n",
    "import torchdiffeq"
   ]
  },
  {
   "cell_type": "markdown",
   "metadata": {
    "colab_type": "text",
    "id": "9bHWPhCN6eNX"
   },
   "source": [
    "# cifar10"
   ]
  },
  {
   "cell_type": "code",
   "execution_count": null,
   "metadata": {
    "colab": {},
    "colab_type": "code",
    "id": "YohY2O5xgl21"
   },
   "outputs": [],
   "source": [
    "transform_train = torchvision.transforms.Compose([\n",
    "    torchvision.transforms.RandomCrop(32, padding=4),\n",
    "    torchvision.transforms.RandomHorizontalFlip(),\n",
    "    torchvision.transforms.ToTensor(),\n",
    "    torchvision.transforms.Normalize((0.4914, 0.4822, 0.4465), (0.2023, 0.1994, 0.2010)),\n",
    "])"
   ]
  },
  {
   "cell_type": "code",
   "execution_count": 27,
   "metadata": {
    "colab": {
     "base_uri": "https://localhost:8080/",
     "height": 52
    },
    "colab_type": "code",
    "executionInfo": {
     "elapsed": 3293,
     "status": "ok",
     "timestamp": 1574584226668,
     "user": {
      "displayName": "Alejandro Queiruga",
      "photoUrl": "",
      "userId": "08519531982283031247"
     },
     "user_tz": 480
    },
    "id": "K2H4oerpgalm",
    "outputId": "c12cb337-7e9c-4f97-be01-93b26f92ce3b"
   },
   "outputs": [
    {
     "name": "stdout",
     "output_type": "stream",
     "text": [
      "Files already downloaded and verified\n",
      "Files already downloaded and verified\n"
     ]
    }
   ],
   "source": [
    "refset = torchvision.datasets.CIFAR10(root='./data', train=True, download=True, transform=None)\n",
    "trainset = torchvision.datasets.CIFAR10(root='./data', train=True, download=True, transform=transform_train)\n",
    "trainloader = torch.utils.data.DataLoader(trainset, batch_size=128, shuffle=True, num_workers=2)"
   ]
  },
  {
   "cell_type": "code",
   "execution_count": null,
   "metadata": {
    "colab": {},
    "colab_type": "code",
    "id": "389DDVJ4gbKo"
   },
   "outputs": [],
   "source": [
    "for i in range(2):\n",
    "    plt.imshow(refset[i][0])\n",
    "    plt.show()"
   ]
  },
  {
   "cell_type": "markdown",
   "metadata": {
    "colab_type": "text",
    "id": "2qAwb7xu7b3h"
   },
   "source": [
    "# Fashion MNIST"
   ]
  },
  {
   "cell_type": "code",
   "execution_count": null,
   "metadata": {
    "colab": {},
    "colab_type": "code",
    "id": "p0Prm9YNidrS"
   },
   "outputs": [],
   "source": [
    "transform = torchvision.transforms.Compose([\n",
    "                torchvision.transforms.ToTensor(),\n",
    "                torchvision.transforms.Normalize((0.5,),\n",
    "                                                 (0.5,)),\n",
    "            ])\n",
    "refset = torchvision.datasets.FashionMNIST('F_MNIST_data/', download=True, train=True, transform=None)\n",
    "trainset = torchvision.datasets.FashionMNIST('F_MNIST_data/', download=True, train=True, transform=transform)\n",
    "trainloader = torch.utils.data.DataLoader(trainset, batch_size=64, shuffle=True)\n",
    "testset = torchvision.datasets.FashionMNIST('F_MNIST_data/', download=True, train=False, transform=transform)\n",
    "testloader = torch.utils.data.DataLoader(testset, batch_size=64, shuffle=True)"
   ]
  },
  {
   "cell_type": "code",
   "execution_count": null,
   "metadata": {
    "colab": {},
    "colab_type": "code",
    "id": "OywDuHAtJ7xg"
   },
   "outputs": [],
   "source": [
    "class MyClassifier(torch.nn.Module):\n",
    "    def __init__(self):\n",
    "        super(MyClassifier,self).__init__()\n",
    "        self.net = torch.nn.Sequential(\n",
    "            torch.nn.Linear(784,784),\n",
    "            torch.nn.ReLU(),\n",
    "            torch.nn.Linear(784,784),\n",
    "            torch.nn.ReLU(),\n",
    "            torch.nn.Linear(784,10),\n",
    "        )\n",
    "    def foward(self,x):\n",
    "        return self.net(x)"
   ]
  },
  {
   "cell_type": "code",
   "execution_count": null,
   "metadata": {
    "colab": {},
    "colab_type": "code",
    "id": "wqXpa0aFkP0s"
   },
   "outputs": [],
   "source": [
    "import copy\n",
    "def copy_model(model):\n",
    "    return copy.deepcopy(model)\n",
    "    #C = type(model)\n",
    "    #new = C()\n",
    "    #new.load_state_dict(model.state_dict())\n",
    "    #return new"
   ]
  },
  {
   "cell_type": "code",
   "execution_count": null,
   "metadata": {
    "colab": {},
    "colab_type": "code",
    "id": "6zTqRC1me0lL"
   },
   "outputs": [],
   "source": [
    "class MyResNet(torch.nn.Module):\n",
    "    def __init__(self):\n",
    "        super(MyResNet,self).__init__()\n",
    "        self.net = torch.nn.Sequential(\n",
    "            torch.nn.Conv2d(1,16,1),\n",
    "            ODEBlock(ODEResBlock(16,16)),\n",
    "            torch.nn.MaxPool2d(3),\n",
    "            ODEBlock(ODEResBlock(16,16)),\n",
    "            ODEBlock(ODEResBlock(16,16)),\n",
    "            torch.nn.MaxPool2d(3),\n",
    "            torch.nn.Flatten(),\n",
    "            torch.nn.Linear(16*3*3,10),\n",
    "        )\n",
    "    def forward(self,x):\n",
    "        return self.net(x)\n",
    "    def refine(self):\n",
    "        return copy_model(self)\n",
    "\n",
    "class ODEBlock(torch.nn.Module):\n",
    "    def __init__(self,net,t_max=1.0):\n",
    "        super(ODEBlock,self).__init__()\n",
    "        self.ts = torch.tensor([t_max])\n",
    "        self.net = net\n",
    "    def forward(self,x):\n",
    "        #print(x.shape)\n",
    "        h = torchdiffeq.odeint(self.net, x, self.ts).flatten(end_dim=1)\n",
    "        #print(h.shape)\n",
    "        return h\n",
    "    def refine(self):\n",
    "        return ODEBlock(self.net.refine())\n",
    "\n",
    "class ODEResBlock(torch.nn.Module):\n",
    "    def __init__(self,i_width=16, h_width=16):\n",
    "        super(ODEResBlock,self).__init__()\n",
    "        self.net = torch.nn.Sequential(\n",
    "            torch.nn.Conv2d(i_width,h_width,3, padding=True),\n",
    "            torch.nn.ReLU(),\n",
    "            torch.nn.Conv2d(h_width,i_width,3, padding=True),\n",
    "            torch.nn.ReLU()\n",
    "        )\n",
    "    def forward(self,t,x):\n",
    "        return self.net(x)\n",
    "    def refine(self):\n",
    "        return copy_model(self)"
   ]
  },
  {
   "cell_type": "code",
   "execution_count": null,
   "metadata": {
    "colab": {},
    "colab_type": "code",
    "id": "4Rstp05uKdlW"
   },
   "outputs": [],
   "source": [
    "model=MyResNet()"
   ]
  },
  {
   "cell_type": "code",
   "execution_count": 42,
   "metadata": {
    "colab": {
     "base_uri": "https://localhost:8080/",
     "height": 691
    },
    "colab_type": "code",
    "executionInfo": {
     "elapsed": 466,
     "status": "ok",
     "timestamp": 1574736123337,
     "user": {
      "displayName": "Alejandro Queiruga",
      "photoUrl": "",
      "userId": "08519531982283031247"
     },
     "user_tz": 480
    },
    "id": "tgEk97r9lksW",
    "outputId": "8cf06c91-9f17-4907-8bc1-2abb782f703a"
   },
   "outputs": [
    {
     "data": {
      "text/plain": [
       "MyResNet(\n",
       "  (net): Sequential(\n",
       "    (0): Conv2d(1, 16, kernel_size=(1, 1), stride=(1, 1))\n",
       "    (1): ODEBlock(\n",
       "      (net): ODEResBlock(\n",
       "        (net): Sequential(\n",
       "          (0): Conv2d(16, 16, kernel_size=(3, 3), stride=(1, 1), padding=(True, True))\n",
       "          (1): ReLU()\n",
       "          (2): Conv2d(16, 16, kernel_size=(3, 3), stride=(1, 1), padding=(True, True))\n",
       "          (3): ReLU()\n",
       "        )\n",
       "      )\n",
       "    )\n",
       "    (2): MaxPool2d(kernel_size=3, stride=3, padding=0, dilation=1, ceil_mode=False)\n",
       "    (3): ODEBlock(\n",
       "      (net): ODEResBlock(\n",
       "        (net): Sequential(\n",
       "          (0): Conv2d(16, 16, kernel_size=(3, 3), stride=(1, 1), padding=(True, True))\n",
       "          (1): ReLU()\n",
       "          (2): Conv2d(16, 16, kernel_size=(3, 3), stride=(1, 1), padding=(True, True))\n",
       "          (3): ReLU()\n",
       "        )\n",
       "      )\n",
       "    )\n",
       "    (4): ODEBlock(\n",
       "      (net): ODEResBlock(\n",
       "        (net): Sequential(\n",
       "          (0): Conv2d(16, 16, kernel_size=(3, 3), stride=(1, 1), padding=(True, True))\n",
       "          (1): ReLU()\n",
       "          (2): Conv2d(16, 16, kernel_size=(3, 3), stride=(1, 1), padding=(True, True))\n",
       "          (3): ReLU()\n",
       "        )\n",
       "      )\n",
       "    )\n",
       "    (5): MaxPool2d(kernel_size=3, stride=3, padding=0, dilation=1, ceil_mode=False)\n",
       "    (6): Flatten()\n",
       "    (7): Linear(in_features=144, out_features=10, bias=True)\n",
       "  )\n",
       ")"
      ]
     },
     "execution_count": 42,
     "metadata": {
      "tags": []
     },
     "output_type": "execute_result"
    }
   ],
   "source": [
    "model"
   ]
  },
  {
   "cell_type": "code",
   "execution_count": 41,
   "metadata": {
    "colab": {
     "base_uri": "https://localhost:8080/",
     "height": 691
    },
    "colab_type": "code",
    "executionInfo": {
     "elapsed": 1463,
     "status": "ok",
     "timestamp": 1574736108662,
     "user": {
      "displayName": "Alejandro Queiruga",
      "photoUrl": "",
      "userId": "08519531982283031247"
     },
     "user_tz": 480
    },
    "id": "xK8VZhc6kawT",
    "outputId": "1abbcb7c-a013-40b1-ee54-bbfa7fda8ccf"
   },
   "outputs": [
    {
     "data": {
      "text/plain": [
       "MyResNet(\n",
       "  (net): Sequential(\n",
       "    (0): Conv2d(1, 16, kernel_size=(1, 1), stride=(1, 1))\n",
       "    (1): ODEBlock(\n",
       "      (net): ODEResBlock(\n",
       "        (net): Sequential(\n",
       "          (0): Conv2d(16, 16, kernel_size=(3, 3), stride=(1, 1), padding=(True, True))\n",
       "          (1): ReLU()\n",
       "          (2): Conv2d(16, 16, kernel_size=(3, 3), stride=(1, 1), padding=(True, True))\n",
       "          (3): ReLU()\n",
       "        )\n",
       "      )\n",
       "    )\n",
       "    (2): MaxPool2d(kernel_size=3, stride=3, padding=0, dilation=1, ceil_mode=False)\n",
       "    (3): ODEBlock(\n",
       "      (net): ODEResBlock(\n",
       "        (net): Sequential(\n",
       "          (0): Conv2d(16, 16, kernel_size=(3, 3), stride=(1, 1), padding=(True, True))\n",
       "          (1): ReLU()\n",
       "          (2): Conv2d(16, 16, kernel_size=(3, 3), stride=(1, 1), padding=(True, True))\n",
       "          (3): ReLU()\n",
       "        )\n",
       "      )\n",
       "    )\n",
       "    (4): ODEBlock(\n",
       "      (net): ODEResBlock(\n",
       "        (net): Sequential(\n",
       "          (0): Conv2d(16, 16, kernel_size=(3, 3), stride=(1, 1), padding=(True, True))\n",
       "          (1): ReLU()\n",
       "          (2): Conv2d(16, 16, kernel_size=(3, 3), stride=(1, 1), padding=(True, True))\n",
       "          (3): ReLU()\n",
       "        )\n",
       "      )\n",
       "    )\n",
       "    (5): MaxPool2d(kernel_size=3, stride=3, padding=0, dilation=1, ceil_mode=False)\n",
       "    (6): Flatten()\n",
       "    (7): Linear(in_features=144, out_features=10, bias=True)\n",
       "  )\n",
       ")"
      ]
     },
     "execution_count": 41,
     "metadata": {
      "tags": []
     },
     "output_type": "execute_result"
    }
   ],
   "source": [
    "model.refine()"
   ]
  },
  {
   "cell_type": "code",
   "execution_count": null,
   "metadata": {
    "colab": {},
    "colab_type": "code",
    "id": "AsPrljV_Kl2j"
   },
   "outputs": [],
   "source": [
    "criterion = torch.nn.CrossEntropyLoss()\n",
    "optimizer = torch.optim.Adam(model.parameters(), lr=1.0e-4)\n",
    "epochs=5\n",
    "N_print=100\n",
    "step_count = 0\n",
    "losses = []"
   ]
  },
  {
   "cell_type": "code",
   "execution_count": 13,
   "metadata": {
    "colab": {
     "base_uri": "https://localhost:8080/",
     "height": 812
    },
    "colab_type": "code",
    "executionInfo": {
     "elapsed": 438202,
     "status": "ok",
     "timestamp": 1574731007719,
     "user": {
      "displayName": "Alejandro Queiruga",
      "photoUrl": "",
      "userId": "08519531982283031247"
     },
     "user_tz": 480
    },
    "id": "WTk2a18Vs1Wx",
    "outputId": "8a226f7c-cb3f-4745-beed-d3781f2df050"
   },
   "outputs": [
    {
     "name": "stdout",
     "output_type": "stream",
     "text": [
      "tensor(2.2326)\n",
      "tensor(2.1352)\n",
      "tensor(2.1051)\n",
      "tensor(2.0159)\n",
      "tensor(1.9792)\n",
      "tensor(1.9297)\n",
      "tensor(1.8648)\n",
      "tensor(1.7566)\n",
      "tensor(1.7827)\n",
      "tensor(1.7203)\n",
      "tensor(1.7577)\n",
      "tensor(1.6680)\n",
      "tensor(1.5806)\n",
      "tensor(1.5526)\n",
      "tensor(1.5224)\n",
      "tensor(1.5110)\n",
      "tensor(1.5707)\n",
      "tensor(1.3837)\n",
      "tensor(1.5392)\n",
      "tensor(1.5340)\n",
      "tensor(1.5839)\n",
      "tensor(1.4415)\n",
      "tensor(1.2898)\n",
      "tensor(1.3172)\n",
      "tensor(1.3571)\n",
      "tensor(1.2458)\n",
      "tensor(1.4743)\n",
      "tensor(1.2255)\n",
      "tensor(1.4212)\n",
      "tensor(1.3106)\n",
      "tensor(1.3026)\n",
      "tensor(1.1387)\n",
      "tensor(1.2018)\n",
      "tensor(1.4063)\n",
      "tensor(1.3077)\n",
      "tensor(1.2627)\n",
      "tensor(1.2693)\n",
      "tensor(1.3119)\n",
      "tensor(1.2533)\n",
      "tensor(1.1910)\n",
      "tensor(1.2549)\n",
      "tensor(1.3145)\n",
      "tensor(1.2239)\n",
      "tensor(1.1236)\n",
      "tensor(1.0710)\n",
      "tensor(1.1607)\n"
     ]
    }
   ],
   "source": [
    "for e in range(epochs):\n",
    "    for imgs,labels in iter(trainloader):\n",
    "        #imgs = imgs.reshape(-1,784)\n",
    "        #print(imgs.shape)\n",
    "        optimizer.zero_grad()\n",
    "        out = model(imgs)\n",
    "        L = criterion(out,labels)\n",
    "        L.backward()\n",
    "        optimizer.step()\n",
    "        losses.append(L.detach().numpy())\n",
    "        if step_count % N_print == N_print-1:\n",
    "            print(L.detach())\n",
    "        step_count += 1"
   ]
  },
  {
   "cell_type": "code",
   "execution_count": 15,
   "metadata": {
    "colab": {
     "base_uri": "https://localhost:8080/",
     "height": 282
    },
    "colab_type": "code",
    "executionInfo": {
     "elapsed": 1300,
     "status": "ok",
     "timestamp": 1574731009953,
     "user": {
      "displayName": "Alejandro Queiruga",
      "photoUrl": "",
      "userId": "08519531982283031247"
     },
     "user_tz": 480
    },
    "id": "MiobZaULGPJe",
    "outputId": "ed80ce8d-d62c-4d48-f5bf-6d74c18513cf"
   },
   "outputs": [
    {
     "data": {
      "text/plain": [
       "[<matplotlib.lines.Line2D at 0x7fb6f7961e48>]"
      ]
     },
     "execution_count": 15,
     "metadata": {
      "tags": []
     },
     "output_type": "execute_result"
    },
    {
     "data": {
      "image/png": "[encoded data removed]",
      "text/plain": [
       "<Figure size 432x288 with 1 Axes>"
      ]
     },
     "metadata": {
      "tags": []
     },
     "output_type": "display_data"
    }
   ],
   "source": [
    "plt.plot(losses)"
   ]
  },
  {
   "cell_type": "code",
   "execution_count": 16,
   "metadata": {
    "colab": {
     "base_uri": "https://localhost:8080/",
     "height": 501
    },
    "colab_type": "code",
    "executionInfo": {
     "elapsed": 3259,
     "status": "ok",
     "timestamp": 1574731011937,
     "user": {
      "displayName": "Alejandro Queiruga",
      "photoUrl": "",
      "userId": "08519531982283031247"
     },
     "user_tz": 480
    },
    "id": "Aezx1G1rH9mm",
    "outputId": "86ed8016-06a5-48fa-e7f8-2eaed95adbfb"
   },
   "outputs": [
    {
     "data": {
      "image/png": "[encoded data removed]",
      "text/plain": [
       "<Figure size 720x720 with 20 Axes>"
      ]
     },
     "metadata": {
      "tags": []
     },
     "output_type": "display_data"
    }
   ],
   "source": [
    "imgs,labels = next(iter(trainloader))\n",
    "#imgsshp = imgs.reshape(-1,784)[:10,:,:,:]\n",
    "res = torch.nn.Softmax(dim=-1)(model(imgs[:10,:,:,:]))\n",
    "size = len(res)\n",
    "plt.figure(figsize=(10,10))\n",
    "for i,(pred,img,label) in enumerate(zip(res,imgs,labels)):\n",
    "    plt.subplot(size//2+1,4,1+2*i)\n",
    "    plt.imshow(img[0,:,:].detach().numpy(),cmap='Greys')\n",
    "    plt.subplot(size//2+1,4,2+2*i)\n",
    "    plt.bar(range(10),[1 if y==label else 0 for y in range(10)])\n",
    "    plt.bar(range(10),pred.detach().numpy())\n",
    "plt.show()"
   ]
  },
  {
   "cell_type": "code",
   "execution_count": 24,
   "metadata": {
    "colab": {
     "base_uri": "https://localhost:8080/",
     "height": 190
    },
    "colab_type": "code",
    "executionInfo": {
     "elapsed": 104710,
     "status": "ok",
     "timestamp": 1574723451254,
     "user": {
      "displayName": "Alejandro Queiruga",
      "photoUrl": "",
      "userId": "08519531982283031247"
     },
     "user_tz": 480
    },
    "id": "7q6QsBitt0k0",
    "outputId": "5f222ade-8007-43cf-8759-ea2d992242dc"
   },
   "outputs": [
    {
     "data": {
      "text/plain": [
       "['T-shirt/top',\n",
       " 'Trouser',\n",
       " 'Pullover',\n",
       " 'Dress',\n",
       " 'Coat',\n",
       " 'Sandal',\n",
       " 'Shirt',\n",
       " 'Sneaker',\n",
       " 'Bag',\n",
       " 'Ankle boot']"
      ]
     },
     "execution_count": 24,
     "metadata": {
      "tags": []
     },
     "output_type": "execute_result"
    }
   ],
   "source": [
    "trainset.classes"
   ]
  },
  {
   "cell_type": "code",
   "execution_count": 17,
   "metadata": {
    "colab": {
     "base_uri": "https://localhost:8080/",
     "height": 286
    },
    "colab_type": "code",
    "executionInfo": {
     "elapsed": 3252,
     "status": "error",
     "timestamp": 1574731011938,
     "user": {
      "displayName": "Alejandro Queiruga",
      "photoUrl": "",
      "userId": "08519531982283031247"
     },
     "user_tz": 480
    },
    "id": "2kFOSGAWSDeM",
    "outputId": "96af1eda-94f8-427b-e045-7549c4fb1186"
   },
   "outputs": [
    {
     "ename": "AttributeError",
     "evalue": "ignored",
     "output_type": "error",
     "traceback": [
      "\u001b[0;31m---------------------------------------------------------------------------\u001b[0m",
      "\u001b[0;31mAttributeError\u001b[0m                            Traceback (most recent call last)",
      "\u001b[0;32m<ipython-input-17-04e750372040>\u001b[0m in \u001b[0;36m<module>\u001b[0;34m()\u001b[0m\n\u001b[0;32m----> 1\u001b[0;31m \u001b[0mmodel\u001b[0m\u001b[0;34m.\u001b[0m\u001b[0mcopy\u001b[0m\u001b[0;34m(\u001b[0m\u001b[0;34m)\u001b[0m\u001b[0;34m\u001b[0m\u001b[0;34m\u001b[0m\u001b[0m\n\u001b[0m",
      "\u001b[0;32m/usr/local/lib/python3.6/dist-packages/torch/nn/modules/module.py\u001b[0m in \u001b[0;36m__getattr__\u001b[0;34m(self, name)\u001b[0m\n\u001b[1;32m    583\u001b[0m                 \u001b[0;32mreturn\u001b[0m \u001b[0mmodules\u001b[0m\u001b[0;34m[\u001b[0m\u001b[0mname\u001b[0m\u001b[0;34m]\u001b[0m\u001b[0;34m\u001b[0m\u001b[0;34m\u001b[0m\u001b[0m\n\u001b[1;32m    584\u001b[0m         raise AttributeError(\"'{}' object has no attribute '{}'\".format(\n\u001b[0;32m--> 585\u001b[0;31m             type(self).__name__, name))\n\u001b[0m\u001b[1;32m    586\u001b[0m \u001b[0;34m\u001b[0m\u001b[0m\n\u001b[1;32m    587\u001b[0m     \u001b[0;32mdef\u001b[0m \u001b[0m__setattr__\u001b[0m\u001b[0;34m(\u001b[0m\u001b[0mself\u001b[0m\u001b[0;34m,\u001b[0m \u001b[0mname\u001b[0m\u001b[0;34m,\u001b[0m \u001b[0mvalue\u001b[0m\u001b[0;34m)\u001b[0m\u001b[0;34m:\u001b[0m\u001b[0;34m\u001b[0m\u001b[0;34m\u001b[0m\u001b[0m\n",
      "\u001b[0;31mAttributeError\u001b[0m: 'MyResNet' object has no attribute 'copy'"
     ]
    }
   ],
   "source": [
    "model.copy()"
   ]
  },
  {
   "cell_type": "code",
   "execution_count": null,
   "metadata": {
    "colab": {},
    "colab_type": "code",
    "id": "P3o_eVqxSEhD"
   },
   "outputs": [],
   "source": [
    "model=MyResNet()"
   ]
  },
  {
   "cell_type": "code",
   "execution_count": 22,
   "metadata": {
    "colab": {
     "base_uri": "https://localhost:8080/",
     "height": 294
    },
    "colab_type": "code",
    "executionInfo": {
     "elapsed": 1019,
     "status": "ok",
     "timestamp": 1574732668197,
     "user": {
      "displayName": "Alejandro Queiruga",
      "photoUrl": "",
      "userId": "08519531982283031247"
     },
     "user_tz": 480
    },
    "id": "-esZPtRWYHun",
    "outputId": "16a058fd-2aba-4af7-ec5a-fcf0e4acb2de"
   },
   "outputs": [
    {
     "data": {
      "text/plain": [
       "[torch.Size([16, 1, 1, 1]),\n",
       " torch.Size([16]),\n",
       " torch.Size([16, 16, 3, 3]),\n",
       " torch.Size([16]),\n",
       " torch.Size([16, 16, 3, 3]),\n",
       " torch.Size([16]),\n",
       " torch.Size([16, 16, 3, 3]),\n",
       " torch.Size([16]),\n",
       " torch.Size([16, 16, 3, 3]),\n",
       " torch.Size([16]),\n",
       " torch.Size([16, 16, 3, 3]),\n",
       " torch.Size([16]),\n",
       " torch.Size([16, 16, 3, 3]),\n",
       " torch.Size([16]),\n",
       " torch.Size([10, 144]),\n",
       " torch.Size([10])]"
      ]
     },
     "execution_count": 22,
     "metadata": {
      "tags": []
     },
     "output_type": "execute_result"
    }
   ],
   "source": [
    "[x.shape for x in model.parameters()]"
   ]
  },
  {
   "cell_type": "code",
   "execution_count": 23,
   "metadata": {
    "colab": {
     "base_uri": "https://localhost:8080/",
     "height": 829
    },
    "colab_type": "code",
    "executionInfo": {
     "elapsed": 898,
     "status": "ok",
     "timestamp": 1574733098982,
     "user": {
      "displayName": "Alejandro Queiruga",
      "photoUrl": "",
      "userId": "08519531982283031247"
     },
     "user_tz": 480
    },
    "id": "VWmsxI_WYLwo",
    "outputId": "44264837-3cd0-4734-d757-f936b5f4c363"
   },
   "outputs": [
    {
     "data": {
      "text/plain": [
       "Parameter containing:\n",
       "tensor([[[[-0.1556]]],\n",
       "\n",
       "\n",
       "        [[[ 0.7373]]],\n",
       "\n",
       "\n",
       "        [[[ 0.2549]]],\n",
       "\n",
       "\n",
       "        [[[-0.1009]]],\n",
       "\n",
       "\n",
       "        [[[-0.0231]]],\n",
       "\n",
       "\n",
       "        [[[ 0.0458]]],\n",
       "\n",
       "\n",
       "        [[[ 0.0690]]],\n",
       "\n",
       "\n",
       "        [[[-0.8953]]],\n",
       "\n",
       "\n",
       "        [[[ 0.8979]]],\n",
       "\n",
       "\n",
       "        [[[ 0.3501]]],\n",
       "\n",
       "\n",
       "        [[[-0.1884]]],\n",
       "\n",
       "\n",
       "        [[[-0.5928]]],\n",
       "\n",
       "\n",
       "        [[[ 0.5857]]],\n",
       "\n",
       "\n",
       "        [[[-0.5611]]],\n",
       "\n",
       "\n",
       "        [[[ 0.6975]]],\n",
       "\n",
       "\n",
       "        [[[ 0.8713]]]], requires_grad=True)"
      ]
     },
     "execution_count": 23,
     "metadata": {
      "tags": []
     },
     "output_type": "execute_result"
    }
   ],
   "source": [
    "list(model.parameters())[0]"
   ]
  },
  {
   "cell_type": "code",
   "execution_count": null,
   "metadata": {
    "colab": {},
    "colab_type": "code",
    "id": "2IMVzk_YaCgq"
   },
   "outputs": [],
   "source": [
    "model2 =MyResNet()"
   ]
  },
  {
   "cell_type": "code",
   "execution_count": 25,
   "metadata": {
    "colab": {
     "base_uri": "https://localhost:8080/",
     "height": 829
    },
    "colab_type": "code",
    "executionInfo": {
     "elapsed": 870,
     "status": "ok",
     "timestamp": 1574733130450,
     "user": {
      "displayName": "Alejandro Queiruga",
      "photoUrl": "",
      "userId": "08519531982283031247"
     },
     "user_tz": 480
    },
    "id": "_LtHZjaJaIO2",
    "outputId": "d179d523-b14c-46c2-e9e2-8ecd1c016e9a"
   },
   "outputs": [
    {
     "data": {
      "text/plain": [
       "Parameter containing:\n",
       "tensor([[[[ 0.0357]]],\n",
       "\n",
       "\n",
       "        [[[-0.1638]]],\n",
       "\n",
       "\n",
       "        [[[ 0.8734]]],\n",
       "\n",
       "\n",
       "        [[[-0.7269]]],\n",
       "\n",
       "\n",
       "        [[[-0.0800]]],\n",
       "\n",
       "\n",
       "        [[[-0.1404]]],\n",
       "\n",
       "\n",
       "        [[[-0.1603]]],\n",
       "\n",
       "\n",
       "        [[[ 0.3851]]],\n",
       "\n",
       "\n",
       "        [[[ 0.8543]]],\n",
       "\n",
       "\n",
       "        [[[-0.8196]]],\n",
       "\n",
       "\n",
       "        [[[-0.4913]]],\n",
       "\n",
       "\n",
       "        [[[ 0.9419]]],\n",
       "\n",
       "\n",
       "        [[[-0.1403]]],\n",
       "\n",
       "\n",
       "        [[[ 0.8789]]],\n",
       "\n",
       "\n",
       "        [[[-0.1595]]],\n",
       "\n",
       "\n",
       "        [[[-0.7544]]]], requires_grad=True)"
      ]
     },
     "execution_count": 25,
     "metadata": {
      "tags": []
     },
     "output_type": "execute_result"
    }
   ],
   "source": [
    "list(model2.parameters())[0]"
   ]
  },
  {
   "cell_type": "code",
   "execution_count": 26,
   "metadata": {
    "colab": {
     "base_uri": "https://localhost:8080/",
     "height": 35
    },
    "colab_type": "code",
    "executionInfo": {
     "elapsed": 920,
     "status": "ok",
     "timestamp": 1574733142831,
     "user": {
      "displayName": "Alejandro Queiruga",
      "photoUrl": "",
      "userId": "08519531982283031247"
     },
     "user_tz": 480
    },
    "id": "h2CWtIViaKaM",
    "outputId": "f3283efd-c11c-4fb0-bb01-efbd71389b3c"
   },
   "outputs": [
    {
     "data": {
      "text/plain": [
       "<All keys matched successfully>"
      ]
     },
     "execution_count": 26,
     "metadata": {
      "tags": []
     },
     "output_type": "execute_result"
    }
   ],
   "source": [
    "model2.load_state_dict(model.state_dict())"
   ]
  },
  {
   "cell_type": "code",
   "execution_count": null,
   "metadata": {
    "colab": {},
    "colab_type": "code",
    "id": "X1NK2oSFakKg"
   },
   "outputs": [],
   "source": [
    "C = type(model)"
   ]
  },
  {
   "cell_type": "code",
   "execution_count": null,
   "metadata": {
    "colab": {},
    "colab_type": "code",
    "id": "gLjRTShLaQK3"
   },
   "outputs": [],
   "source": []
  },
  {
   "cell_type": "code",
   "execution_count": null,
   "metadata": {
    "colab": {},
    "colab_type": "code",
    "id": "OsfgvbLAay4U"
   },
   "outputs": [],
   "source": []
  }
 ],
 "metadata": {
  "accelerator": "GPU",
  "colab": {
   "collapsed_sections": [],
   "name": "mnist_odenet.ipynb",
   "provenance": []
  },
  "kernelspec": {
   "display_name": "Python 3",
   "language": "python",
   "name": "python3"
  },
  "language_info": {
   "codemirror_mode": {
    "name": "ipython",
    "version": 3
   },
   "file_extension": ".py",
   "mimetype": "text/x-python",
   "name": "python",
   "nbconvert_exporter": "python",
   "pygments_lexer": "ipython3",
   "version": "3.7.5"
  }
 },
 "nbformat": 4,
 "nbformat_minor": 2
}
