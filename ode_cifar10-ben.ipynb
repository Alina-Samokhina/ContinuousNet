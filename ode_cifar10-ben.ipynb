{
 "cells": [
  {
   "cell_type": "code",
   "execution_count": 1,
   "metadata": {
    "colab": {
     "base_uri": "https://localhost:8080/",
     "height": 331
    },
    "colab_type": "code",
    "executionInfo": {
     "elapsed": 29919,
     "status": "ok",
     "timestamp": 1575329660893,
     "user": {
      "displayName": "Alejandro Queiruga",
      "photoUrl": "",
      "userId": "08519531982283031247"
     },
     "user_tz": 480
    },
    "id": "Zl8boBpbFwUl",
    "outputId": "17afef30-be4a-41e0-a820-b588134b6994"
   },
   "outputs": [
    {
     "name": "stdout",
     "output_type": "stream",
     "text": [
      "Collecting git+https://github.com/rtqichen/torchdiffeq.git\n",
      "  Cloning https://github.com/rtqichen/torchdiffeq.git to /tmp/pip-req-build-tcz_zke5\n",
      "Requirement already satisfied (use --upgrade to upgrade): torchdiffeq==0.0.1 from git+https://github.com/rtqichen/torchdiffeq.git in /home/ubuntu/.local/lib/python3.6/site-packages\n",
      "Requirement already satisfied: torch>=0.4.1 in /home/ubuntu/.local/lib/python3.6/site-packages (from torchdiffeq==0.0.1) (1.3.1)\n",
      "Requirement already satisfied: numpy in /home/ubuntu/anaconda3/envs/tensorflow_p36/lib/python3.6/site-packages (from torch>=0.4.1->torchdiffeq==0.0.1) (1.16.4)\n",
      "Building wheels for collected packages: torchdiffeq\n",
      "  Running setup.py bdist_wheel for torchdiffeq ... \u001b[?25ldone\n",
      "\u001b[?25h  Stored in directory: /tmp/pip-ephem-wheel-cache-wn34ug2m/wheels/f1/89/ce/78b4c1aabbb8dad56a2dbd776f9ffcbeca103b2ddae40d094b\n",
      "Successfully built torchdiffeq\n",
      "\u001b[33mYou are using pip version 10.0.1, however version 19.3.1 is available.\n",
      "You should consider upgrading via the 'pip install --upgrade pip' command.\u001b[0m\n"
     ]
    }
   ],
   "source": [
    "!pip install --user git+https://github.com/rtqichen/torchdiffeq.git\n",
    "\n",
    "project_dir = \"odenet\"\n",
    "import sys\n",
    "if False: # On colab\n",
    "    from google.colab import drive\n",
    "    drive.mount('/content/drive',force_remount=True)\n",
    "    root = \"/content/drive/My Drive/Colab Notebooks/\"+project_dir\n",
    "    sys.path.append(root)\n",
    "else: # Local\n",
    "    root = './'"
   ]
  },
  {
   "cell_type": "code",
   "execution_count": 2,
   "metadata": {},
   "outputs": [
    {
     "name": "stdout",
     "output_type": "stream",
     "text": [
      "Collecting git+https://github.com/rtqichen/torchdiffeq.git\n",
      "  Cloning https://github.com/rtqichen/torchdiffeq.git to /tmp/pip-req-build-zt6rmchm\n",
      "Requirement already satisfied (use --upgrade to upgrade): torchdiffeq==0.0.1 from git+https://github.com/rtqichen/torchdiffeq.git in /home/ubuntu/.local/lib/python3.6/site-packages\n",
      "Requirement already satisfied: torch>=0.4.1 in /home/ubuntu/.local/lib/python3.6/site-packages (from torchdiffeq==0.0.1) (1.3.1)\n",
      "Requirement already satisfied: numpy in /home/ubuntu/anaconda3/envs/tensorflow_p36/lib/python3.6/site-packages (from torch>=0.4.1->torchdiffeq==0.0.1) (1.16.4)\n",
      "Building wheels for collected packages: torchdiffeq\n",
      "  Running setup.py bdist_wheel for torchdiffeq ... \u001b[?25ldone\n",
      "\u001b[?25h  Stored in directory: /tmp/pip-ephem-wheel-cache-53_r2s00/wheels/f1/89/ce/78b4c1aabbb8dad56a2dbd776f9ffcbeca103b2ddae40d094b\n",
      "Successfully built torchdiffeq\n",
      "\u001b[33mYou are using pip version 10.0.1, however version 19.3.1 is available.\n",
      "You should consider upgrading via the 'pip install --upgrade pip' command.\u001b[0m\n",
      "Requirement already satisfied: torchvision in /home/ubuntu/.local/lib/python3.6/site-packages (0.4.2)\n",
      "Requirement already satisfied: pillow>=4.1.1 in /home/ubuntu/anaconda3/envs/tensorflow_p36/lib/python3.6/site-packages (from torchvision) (5.2.0)\n",
      "Requirement already satisfied: numpy in /home/ubuntu/anaconda3/envs/tensorflow_p36/lib/python3.6/site-packages (from torchvision) (1.16.4)\n",
      "Requirement already satisfied: torch==1.3.1 in /home/ubuntu/.local/lib/python3.6/site-packages (from torchvision) (1.3.1)\n",
      "Requirement already satisfied: six in /home/ubuntu/anaconda3/envs/tensorflow_p36/lib/python3.6/site-packages (from torchvision) (1.11.0)\n",
      "\u001b[33mYou are using pip version 10.0.1, however version 19.3.1 is available.\n",
      "You should consider upgrading via the 'pip install --upgrade pip' command.\u001b[0m\n"
     ]
    }
   ],
   "source": [
    "# For the aws instance\n",
    "!pip install --user git+https://github.com/rtqichen/torchdiffeq.git\n",
    "!pip install --user torchvision"
   ]
  },
  {
   "cell_type": "code",
   "execution_count": 3,
   "metadata": {
    "colab": {
     "base_uri": "https://localhost:8080/",
     "height": 55
    },
    "colab_type": "code",
    "executionInfo": {
     "elapsed": 31994,
     "status": "ok",
     "timestamp": 1575329666033,
     "user": {
      "displayName": "Alejandro Queiruga",
      "photoUrl": "",
      "userId": "08519531982283031247"
     },
     "user_tz": 480
    },
    "id": "ilNKAEHQFwUq",
    "outputId": "c3d18af9-127c-449c-ee07-431ffabfa048"
   },
   "outputs": [],
   "source": [
    "import numpy as np\n",
    "import torch\n",
    "import torch.nn.init as init\n",
    "\n",
    "from matplotlib import pylab as plt\n",
    "from odenet import datasets\n",
    "from odenet.odenet_cifar10 import ODEResNet\n",
    "from odenet import refine_train\n",
    "\n",
    "import importlib\n",
    "importlib.reload(refine_train)\n",
    "from odenet.helper import set_seed, get_device, which_device\n",
    "#importlib.reload(odenet_cifar10)"
   ]
  },
  {
   "cell_type": "code",
   "execution_count": 4,
   "metadata": {},
   "outputs": [
    {
     "name": "stdout",
     "output_type": "stream",
     "text": [
      "Connected to a GPU\n"
     ]
    }
   ],
   "source": [
    "set_seed()\n",
    "device = get_device()"
   ]
  },
  {
   "cell_type": "code",
   "execution_count": 5,
   "metadata": {
    "colab": {
     "base_uri": "https://localhost:8080/",
     "height": 124
    },
    "colab_type": "code",
    "executionInfo": {
     "elapsed": 42816,
     "status": "ok",
     "timestamp": 1575329677116,
     "user": {
      "displayName": "Alejandro Queiruga",
      "photoUrl": "",
      "userId": "08519531982283031247"
     },
     "user_tz": 480
    },
    "id": "thZA-eE7FwUt",
    "outputId": "5ebff6e0-a541-41b3-aa14-50af1d26490b"
   },
   "outputs": [
    {
     "name": "stdout",
     "output_type": "stream",
     "text": [
      "Files already downloaded and verified\n",
      "Files already downloaded and verified\n",
      "Files already downloaded and verified\n"
     ]
    }
   ],
   "source": [
    "refset,trainset,trainloader,testset,testloader = datasets.get_dataset('CIFAR10',root='../data/')"
   ]
  },
  {
   "cell_type": "code",
   "execution_count": 6,
   "metadata": {
    "colab": {
     "base_uri": "https://localhost:8080/",
     "height": 284
    },
    "colab_type": "code",
    "executionInfo": {
     "elapsed": 118565,
     "status": "ok",
     "timestamp": 1575321911306,
     "user": {
      "displayName": "Alejandro Queiruga",
      "photoUrl": "",
      "userId": "08519531982283031247"
     },
     "user_tz": 480
    },
    "id": "-iPXuJ-nFwUx",
    "outputId": "3ede71a3-379b-4928-b813-5a81ed0427be"
   },
   "outputs": [
    {
     "data": {
      "text/plain": [
       "<matplotlib.image.AxesImage at 0x7f4c54112b00>"
      ]
     },
     "execution_count": 6,
     "metadata": {},
     "output_type": "execute_result"
    },
    {
     "data": {
      "image/png": "[encoded data removed]",
      "text/plain": [
       "<Figure size 432x288 with 1 Axes>"
      ]
     },
     "metadata": {},
     "output_type": "display_data"
    }
   ],
   "source": [
    "plt.imshow(refset.data[6],cmap='gray')"
   ]
  },
  {
   "cell_type": "code",
   "execution_count": 7,
   "metadata": {},
   "outputs": [],
   "source": [
    "def weights_init(m):\n",
    "    if isinstance(m, torch.nn.Linear):\n",
    "        if m.weight is not None:\n",
    "            init.xavier_uniform_(m.weight)\n",
    "        if m.bias is not None:\n",
    "            init.constant_(m.bias, 0.0)\n",
    "            \n",
    "    if isinstance(m, torch.nn.Conv2d):\n",
    "        if m.weight is not None:\n",
    "            init.kaiming_uniform_(m.weight)\n",
    "        if m.bias is not None:\n",
    "            init.zeros_(m.bias, 0.0)        \n"
   ]
  },
  {
   "cell_type": "code",
   "execution_count": 8,
   "metadata": {},
   "outputs": [],
   "source": [
    "def do_a_train_set(ALPHA, method, N_epochs, N_adapt, lr, lr_decay=0.1, epoch_update=[10], weight_decay=1e-5):\n",
    "    \n",
    "    np.random.seed(123)\n",
    "    torch.manual_seed(123)\n",
    "\n",
    "    \n",
    "    model = ODEResNet(ALPHA=ALPHA, method=method, in_channels=3).to(device)\n",
    "    model.apply(weights_init)\n",
    "    \n",
    "    #==============================================================================\n",
    "    # Model summary\n",
    "    #==============================================================================\n",
    "    print(model)\n",
    "    print('**** Setup ****')\n",
    "    print('Total params: %.2fM' % (sum(p.numel() for p in model.parameters())/1000000.0))\n",
    "    print('************')\n",
    "    \n",
    "\n",
    "\n",
    "    res = refine_train.train_adapt(model, trainloader, testloader, torch.nn.CrossEntropyLoss(),\n",
    "                N_epochs, N_adapt, lr=lr, lr_decay=lr_decay, epoch_update=epoch_update, weight_decay=weight_decay, \n",
    "                                   device=device)\n",
    "    #plt.semilogy(res[1])\n",
    "    #for r in res[2]:\n",
    "    #    plt.axvline(r,color='k')\n",
    "    return res"
   ]
  },
  {
   "cell_type": "code",
   "execution_count": null,
   "metadata": {},
   "outputs": [],
   "source": []
  },
  {
   "cell_type": "code",
   "execution_count": 9,
   "metadata": {},
   "outputs": [
    {
     "name": "stdout",
     "output_type": "stream",
     "text": [
      "ODEResNet(\n",
      "  (net): Sequential(\n",
      "    (0): Conv2d(3, 16, kernel_size=(3, 3), stride=(1, 1), padding=(1, 1), bias=False)\n",
      "    (1): BatchNorm2d(16, eps=1e-05, momentum=0.1, affine=True, track_running_stats=True)\n",
      "    (2): ReLU()\n",
      "    (3): ODEBlock(\n",
      "      (net): ShallowConv2DODE(\n",
      "        (L1): Conv2DODE()\n",
      "        (bn1): BatchNorm2d(16, eps=1e-05, momentum=0.1, affine=True, track_running_stats=True)\n",
      "        (L2): Conv2DODE()\n",
      "        (bn2): BatchNorm2d(16, eps=1e-05, momentum=0.1, affine=True, track_running_stats=True)\n",
      "      )\n",
      "    )\n",
      "    (4): Conv2d(16, 32, kernel_size=(1, 1), stride=(2, 2), padding=(1, 1), bias=False)\n",
      "    (5): BatchNorm2d(32, eps=1e-05, momentum=0.1, affine=True, track_running_stats=True)\n",
      "    (6): ODEBlock(\n",
      "      (net): ShallowConv2DODE(\n",
      "        (L1): Conv2DODE()\n",
      "        (bn1): BatchNorm2d(32, eps=1e-05, momentum=0.1, affine=True, track_running_stats=True)\n",
      "        (L2): Conv2DODE()\n",
      "        (bn2): BatchNorm2d(32, eps=1e-05, momentum=0.1, affine=True, track_running_stats=True)\n",
      "      )\n",
      "    )\n",
      "    (7): Conv2d(32, 64, kernel_size=(1, 1), stride=(2, 2), padding=(1, 1), bias=False)\n",
      "    (8): BatchNorm2d(64, eps=1e-05, momentum=0.1, affine=True, track_running_stats=True)\n",
      "    (9): ODEBlock(\n",
      "      (net): ShallowConv2DODE(\n",
      "        (L1): Conv2DODE()\n",
      "        (bn1): BatchNorm2d(64, eps=1e-05, momentum=0.1, affine=True, track_running_stats=True)\n",
      "        (L2): Conv2DODE()\n",
      "        (bn2): BatchNorm2d(64, eps=1e-05, momentum=0.1, affine=True, track_running_stats=True)\n",
      "      )\n",
      "    )\n",
      "    (10): AdaptiveAvgPool2d(output_size=1)\n",
      "    (11): Flatten()\n",
      "    (12): Linear(in_features=64, out_features=10, bias=True)\n",
      "  )\n",
      ")\n",
      "**** Setup ****\n",
      "Total params: 0.10M\n",
      "************\n",
      "Epoch:  0\n",
      "Train Loss:  0.48982\n",
      "Test Loss:  0.4888\n",
      "Epoch:  5\n",
      "Train Loss:  0.71686\n",
      "Test Loss:  0.7005\n",
      "Epoch:  10\n",
      "Train Loss:  0.78532\n",
      "Test Loss:  0.7647\n",
      "Epoch:  15\n",
      "Train Loss:  0.81072\n",
      "Test Loss:  0.7836\n",
      "Epoch:  20\n",
      "Train Loss:  0.83164\n",
      "Test Loss:  0.8035\n",
      "Epoch:  25\n",
      "Train Loss:  0.84102\n",
      "Test Loss:  0.8148\n",
      "Epoch:  30\n",
      "Train Loss:  0.85426\n",
      "Test Loss:  0.823\n",
      "lr decay update 0.010000000000000002\n",
      "Epoch:  35\n",
      "Train Loss:  0.88956\n",
      "Test Loss:  0.8506\n",
      "Epoch:  40\n",
      "Train Loss:  0.89634\n",
      "Test Loss:  0.8523\n",
      "Epoch:  45\n",
      "Train Loss:  0.895\n",
      "Test Loss:  0.8529\n",
      "Epoch:  50\n",
      "Train Loss:  0.90068\n",
      "Test Loss:  0.8556\n",
      "Epoch:  55\n",
      "Train Loss:  0.89902\n",
      "Test Loss:  0.8524\n",
      "Epoch:  60\n",
      "Train Loss:  0.90308\n",
      "Test Loss:  0.8501\n",
      "lr decay update 0.0010000000000000002\n",
      "Epoch:  65\n",
      "Train Loss:  0.90488\n",
      "Test Loss:  0.854\n",
      "Epoch:  70\n",
      "Train Loss:  0.9047\n",
      "Test Loss:  0.8551\n",
      "Epoch:  75\n",
      "Train Loss:  0.9048\n",
      "Test Loss:  0.8555\n",
      "Epoch:  80\n",
      "Train Loss:  0.90532\n",
      "Test Loss:  0.855\n",
      "lr decay update 0.00010000000000000003\n",
      "Epoch:  85\n",
      "Train Loss:  0.90496\n",
      "Test Loss:  0.8553\n",
      "ODEResNet(\n",
      "  (net): Sequential(\n",
      "    (0): Conv2d(3, 16, kernel_size=(3, 3), stride=(1, 1), padding=(1, 1), bias=False)\n",
      "    (1): BatchNorm2d(16, eps=1e-05, momentum=0.1, affine=True, track_running_stats=True)\n",
      "    (2): ReLU()\n",
      "    (3): ODEBlock(\n",
      "      (net): ShallowConv2DODE(\n",
      "        (L1): Conv2DODE()\n",
      "        (bn1): BatchNorm2d(16, eps=1e-05, momentum=0.1, affine=True, track_running_stats=True)\n",
      "        (L2): Conv2DODE()\n",
      "        (bn2): BatchNorm2d(16, eps=1e-05, momentum=0.1, affine=True, track_running_stats=True)\n",
      "      )\n",
      "    )\n",
      "    (4): Conv2d(16, 32, kernel_size=(1, 1), stride=(2, 2), padding=(1, 1), bias=False)\n",
      "    (5): BatchNorm2d(32, eps=1e-05, momentum=0.1, affine=True, track_running_stats=True)\n",
      "    (6): ODEBlock(\n",
      "      (net): ShallowConv2DODE(\n",
      "        (L1): Conv2DODE()\n",
      "        (bn1): BatchNorm2d(32, eps=1e-05, momentum=0.1, affine=True, track_running_stats=True)\n",
      "        (L2): Conv2DODE()\n",
      "        (bn2): BatchNorm2d(32, eps=1e-05, momentum=0.1, affine=True, track_running_stats=True)\n",
      "      )\n",
      "    )\n",
      "    (7): Conv2d(32, 64, kernel_size=(1, 1), stride=(2, 2), padding=(1, 1), bias=False)\n",
      "    (8): BatchNorm2d(64, eps=1e-05, momentum=0.1, affine=True, track_running_stats=True)\n",
      "    (9): ODEBlock(\n",
      "      (net): ShallowConv2DODE(\n",
      "        (L1): Conv2DODE()\n",
      "        (bn1): BatchNorm2d(64, eps=1e-05, momentum=0.1, affine=True, track_running_stats=True)\n",
      "        (L2): Conv2DODE()\n",
      "        (bn2): BatchNorm2d(64, eps=1e-05, momentum=0.1, affine=True, track_running_stats=True)\n",
      "      )\n",
      "    )\n",
      "    (10): AdaptiveAvgPool2d(output_size=1)\n",
      "    (11): Flatten()\n",
      "    (12): Linear(in_features=64, out_features=10, bias=True)\n",
      "  )\n",
      ")\n",
      "**** Setup ****\n",
      "Total params: 0.10M\n",
      "************\n",
      "Epoch:  0\n",
      "Train Loss:  0.49102\n",
      "Test Loss:  0.4955\n",
      "Epoch:  5\n",
      "Train Loss:  0.74268\n",
      "Test Loss:  0.7361\n",
      "Epoch:  10\n",
      "Train Loss:  0.78492\n",
      "Test Loss:  0.7767\n",
      "Epoch:  15\n",
      "Train Loss:  0.7897\n",
      "Test Loss:  0.7791\n",
      "Epoch:  20\n",
      "Train Loss:  0.78358\n",
      "Test Loss:  0.7812\n",
      "Epoch:  25\n",
      "Train Loss:  0.79532\n",
      "Test Loss:  0.7808\n",
      "Epoch:  30\n",
      "Train Loss:  0.819\n",
      "Test Loss:  0.8067\n",
      "lr decay update 0.010000000000000002\n",
      "Epoch:  35\n",
      "Train Loss:  0.84644\n",
      "Test Loss:  0.825\n",
      "Epoch:  40\n",
      "Train Loss:  0.84774\n",
      "Test Loss:  0.8223\n",
      "Epoch:  45\n",
      "Train Loss:  0.83676\n",
      "Test Loss:  0.8154\n",
      "Epoch:  50\n",
      "Train Loss:  0.84036\n",
      "Test Loss:  0.8181\n",
      "Epoch:  55\n",
      "Train Loss:  0.84456\n",
      "Test Loss:  0.8217\n",
      "Epoch:  60\n",
      "Train Loss:  0.8384\n",
      "Test Loss:  0.8172\n",
      "lr decay update 0.0010000000000000002\n",
      "Epoch:  65\n",
      "Train Loss:  0.83972\n",
      "Test Loss:  0.8184\n",
      "Epoch:  70\n",
      "Train Loss:  0.83942\n",
      "Test Loss:  0.819\n",
      "Epoch:  75\n",
      "Train Loss:  0.83376\n",
      "Test Loss:  0.8154\n",
      "Epoch:  80\n",
      "Train Loss:  0.83266\n",
      "Test Loss:  0.815\n",
      "lr decay update 0.00010000000000000003\n",
      "Epoch:  85\n",
      "Train Loss:  0.83628\n",
      "Test Loss:  0.8158\n",
      "ODEResNet(\n",
      "  (net): Sequential(\n",
      "    (0): Conv2d(3, 16, kernel_size=(3, 3), stride=(1, 1), padding=(1, 1), bias=False)\n",
      "    (1): BatchNorm2d(16, eps=1e-05, momentum=0.1, affine=True, track_running_stats=True)\n",
      "    (2): ReLU()\n",
      "    (3): ODEBlock(\n",
      "      (net): ShallowConv2DODE(\n",
      "        (L1): Conv2DODE()\n",
      "        (bn1): BatchNorm2d(16, eps=1e-05, momentum=0.1, affine=True, track_running_stats=True)\n",
      "        (L2): Conv2DODE()\n",
      "        (bn2): BatchNorm2d(16, eps=1e-05, momentum=0.1, affine=True, track_running_stats=True)\n",
      "      )\n",
      "    )\n",
      "    (4): Conv2d(16, 32, kernel_size=(1, 1), stride=(2, 2), padding=(1, 1), bias=False)\n",
      "    (5): BatchNorm2d(32, eps=1e-05, momentum=0.1, affine=True, track_running_stats=True)\n",
      "    (6): ODEBlock(\n",
      "      (net): ShallowConv2DODE(\n",
      "        (L1): Conv2DODE()\n",
      "        (bn1): BatchNorm2d(32, eps=1e-05, momentum=0.1, affine=True, track_running_stats=True)\n",
      "        (L2): Conv2DODE()\n",
      "        (bn2): BatchNorm2d(32, eps=1e-05, momentum=0.1, affine=True, track_running_stats=True)\n",
      "      )\n",
      "    )\n",
      "    (7): Conv2d(32, 64, kernel_size=(1, 1), stride=(2, 2), padding=(1, 1), bias=False)\n",
      "    (8): BatchNorm2d(64, eps=1e-05, momentum=0.1, affine=True, track_running_stats=True)\n",
      "    (9): ODEBlock(\n",
      "      (net): ShallowConv2DODE(\n",
      "        (L1): Conv2DODE()\n",
      "        (bn1): BatchNorm2d(64, eps=1e-05, momentum=0.1, affine=True, track_running_stats=True)\n",
      "        (L2): Conv2DODE()\n",
      "        (bn2): BatchNorm2d(64, eps=1e-05, momentum=0.1, affine=True, track_running_stats=True)\n",
      "      )\n",
      "    )\n",
      "    (10): AdaptiveAvgPool2d(output_size=1)\n",
      "    (11): Flatten()\n",
      "    (12): Linear(in_features=64, out_features=10, bias=True)\n",
      "  )\n",
      ")\n",
      "**** Setup ****\n",
      "Total params: 0.10M\n",
      "************\n"
     ]
    },
    {
     "ename": "KeyboardInterrupt",
     "evalue": "",
     "output_type": "error",
     "traceback": [
      "\u001b[0;31m---------------------------------------------------------------------------\u001b[0m",
      "\u001b[0;31mKeyboardInterrupt\u001b[0m                         Traceback (most recent call last)",
      "\u001b[0;32m<ipython-input-9-78ae754b0dc6>\u001b[0m in \u001b[0;36m<module>\u001b[0;34m()\u001b[0m\n\u001b[1;32m      2\u001b[0m \u001b[0;32mfor\u001b[0m \u001b[0mmethod\u001b[0m \u001b[0;32min\u001b[0m \u001b[0;34m[\u001b[0m\u001b[0;34m'euler'\u001b[0m\u001b[0;34m,\u001b[0m\u001b[0;34m'rk4'\u001b[0m\u001b[0;34m,\u001b[0m\u001b[0;34m'midpoint'\u001b[0m\u001b[0;34m]\u001b[0m\u001b[0;34m:\u001b[0m\u001b[0;34m\u001b[0m\u001b[0m\n\u001b[1;32m      3\u001b[0m \u001b[0;31m#for method in ['euler']:\u001b[0m\u001b[0;34m\u001b[0m\u001b[0;34m\u001b[0m\u001b[0m\n\u001b[0;32m----> 4\u001b[0;31m     \u001b[0mres\u001b[0m \u001b[0;34m=\u001b[0m \u001b[0mdo_a_train_set\u001b[0m\u001b[0;34m(\u001b[0m\u001b[0;36m16\u001b[0m\u001b[0;34m,\u001b[0m \u001b[0mmethod\u001b[0m\u001b[0;34m,\u001b[0m \u001b[0mN_epochs\u001b[0m\u001b[0;34m=\u001b[0m\u001b[0;36m90\u001b[0m\u001b[0;34m,\u001b[0m \u001b[0mN_adapt\u001b[0m\u001b[0;34m=\u001b[0m\u001b[0;34m[\u001b[0m\u001b[0;34m]\u001b[0m\u001b[0;34m,\u001b[0m \u001b[0mlr\u001b[0m\u001b[0;34m=\u001b[0m\u001b[0;36m1e-1\u001b[0m\u001b[0;34m,\u001b[0m \u001b[0mlr_decay\u001b[0m\u001b[0;34m=\u001b[0m\u001b[0;36m0.1\u001b[0m\u001b[0;34m,\u001b[0m \u001b[0mepoch_update\u001b[0m\u001b[0;34m=\u001b[0m\u001b[0;34m[\u001b[0m\u001b[0;36m30\u001b[0m\u001b[0;34m,\u001b[0m \u001b[0;36m60\u001b[0m\u001b[0;34m,\u001b[0m \u001b[0;36m80\u001b[0m\u001b[0;34m]\u001b[0m\u001b[0;34m,\u001b[0m \u001b[0mweight_decay\u001b[0m\u001b[0;34m=\u001b[0m\u001b[0;36m0\u001b[0m\u001b[0;34m)\u001b[0m\u001b[0;34m\u001b[0m\u001b[0m\n\u001b[0m\u001b[1;32m      5\u001b[0m     \u001b[0mstash\u001b[0m\u001b[0;34m[\u001b[0m\u001b[0mmethod\u001b[0m\u001b[0;34m]\u001b[0m \u001b[0;34m=\u001b[0m \u001b[0mres\u001b[0m\u001b[0;34m\u001b[0m\u001b[0m\n",
      "\u001b[0;32m<ipython-input-8-7793c1c44c9d>\u001b[0m in \u001b[0;36mdo_a_train_set\u001b[0;34m(ALPHA, method, N_epochs, N_adapt, lr, lr_decay, epoch_update, weight_decay)\u001b[0m\n\u001b[1;32m     20\u001b[0m     res = refine_train.train_adapt(model, trainloader, testloader, torch.nn.CrossEntropyLoss(),\n\u001b[1;32m     21\u001b[0m                 \u001b[0mN_epochs\u001b[0m\u001b[0;34m,\u001b[0m \u001b[0mN_adapt\u001b[0m\u001b[0;34m,\u001b[0m \u001b[0mlr\u001b[0m\u001b[0;34m=\u001b[0m\u001b[0mlr\u001b[0m\u001b[0;34m,\u001b[0m \u001b[0mlr_decay\u001b[0m\u001b[0;34m=\u001b[0m\u001b[0mlr_decay\u001b[0m\u001b[0;34m,\u001b[0m \u001b[0mepoch_update\u001b[0m\u001b[0;34m=\u001b[0m\u001b[0mepoch_update\u001b[0m\u001b[0;34m,\u001b[0m \u001b[0mweight_decay\u001b[0m\u001b[0;34m=\u001b[0m\u001b[0mweight_decay\u001b[0m\u001b[0;34m,\u001b[0m\u001b[0;34m\u001b[0m\u001b[0m\n\u001b[0;32m---> 22\u001b[0;31m                                    device=device)\n\u001b[0m\u001b[1;32m     23\u001b[0m     \u001b[0;31m#plt.semilogy(res[1])\u001b[0m\u001b[0;34m\u001b[0m\u001b[0;34m\u001b[0m\u001b[0m\n\u001b[1;32m     24\u001b[0m     \u001b[0;31m#for r in res[2]:\u001b[0m\u001b[0;34m\u001b[0m\u001b[0;34m\u001b[0m\u001b[0m\n",
      "\u001b[0;32m~/afq/refinenet/odenet/refine_train.py\u001b[0m in \u001b[0;36mtrain_adapt\u001b[0;34m(model, loader, testloader, criterion, N_epochs, N_refine, lr, lr_decay, epoch_update, weight_decay, device)\u001b[0m\n\u001b[1;32m     53\u001b[0m             \u001b[0moptimizer\u001b[0m\u001b[0;34m.\u001b[0m\u001b[0mstep\u001b[0m\u001b[0;34m(\u001b[0m\u001b[0;34m)\u001b[0m\u001b[0;34m\u001b[0m\u001b[0m\n\u001b[1;32m     54\u001b[0m             \u001b[0moptimizer\u001b[0m\u001b[0;34m.\u001b[0m\u001b[0mzero_grad\u001b[0m\u001b[0;34m(\u001b[0m\u001b[0;34m)\u001b[0m\u001b[0;34m\u001b[0m\u001b[0m\n\u001b[0;32m---> 55\u001b[0;31m             \u001b[0mlosses\u001b[0m\u001b[0;34m.\u001b[0m\u001b[0mappend\u001b[0m\u001b[0;34m(\u001b[0m\u001b[0mL\u001b[0m\u001b[0;34m.\u001b[0m\u001b[0mdetach\u001b[0m\u001b[0;34m(\u001b[0m\u001b[0;34m)\u001b[0m\u001b[0;34m.\u001b[0m\u001b[0mcpu\u001b[0m\u001b[0;34m(\u001b[0m\u001b[0;34m)\u001b[0m\u001b[0;34m.\u001b[0m\u001b[0mitem\u001b[0m\u001b[0;34m(\u001b[0m\u001b[0;34m)\u001b[0m\u001b[0;34m)\u001b[0m\u001b[0;34m\u001b[0m\u001b[0m\n\u001b[0m\u001b[1;32m     56\u001b[0m \u001b[0;34m\u001b[0m\u001b[0m\n\u001b[1;32m     57\u001b[0m \u001b[0;34m\u001b[0m\u001b[0m\n",
      "\u001b[0;31mKeyboardInterrupt\u001b[0m: "
     ]
    }
   ],
   "source": [
    "stash = {}\n",
    "for method in ['euler','rk4','midpoint']:\n",
    "#for method in ['euler']:\n",
    "    res = do_a_train_set(16, method, N_epochs=90, N_adapt=[], lr=1e-1, lr_decay=0.1, epoch_update=[30, 60, 80], weight_decay=0)\n",
    "    stash[method] = res"
   ]
  },
  {
   "cell_type": "code",
   "execution_count": null,
   "metadata": {},
   "outputs": [],
   "source": []
  },
  {
   "cell_type": "code",
   "execution_count": null,
   "metadata": {},
   "outputs": [],
   "source": [
    "for k,(models,losses,refine_steps) in stash.items():\n",
    "    plt.semilogy(losses,label=k)\n",
    "    for r in refine_steps:\n",
    "        plt.axvline(r,color='k')\n",
    "plt.ylim(top=6)\n",
    "plt.legend()\n",
    "plt.show()"
   ]
  },
  {
   "cell_type": "code",
   "execution_count": null,
   "metadata": {},
   "outputs": [],
   "source": [
    "for k,(model_list,losses,refine_steps) in stash.items():\n",
    "    print(k)\n",
    "    for m in model_list:\n",
    "        print(refine_train.model_acc(m,testloader))"
   ]
  },
  {
   "cell_type": "code",
   "execution_count": null,
   "metadata": {
    "colab": {},
    "colab_type": "code",
    "id": "suJisKKkFwVG",
    "outputId": "f06c0255-de54-4c1d-828b-39e8abde3158"
   },
   "outputs": [],
   "source": [
    "refset.classes"
   ]
  },
  {
   "cell_type": "code",
   "execution_count": null,
   "metadata": {
    "colab": {},
    "colab_type": "code",
    "id": "4lMWqWVBFwVI"
   },
   "outputs": [],
   "source": [
    "#torch.save(stash['rk4'][0], 'results/resnet_rk4.pkl')\n",
    "#torch.save(stash['euler'][0], 'results/resnet_euler.pkl')"
   ]
  },
  {
   "cell_type": "code",
   "execution_count": null,
   "metadata": {},
   "outputs": [],
   "source": []
  },
  {
   "cell_type": "code",
   "execution_count": null,
   "metadata": {},
   "outputs": [],
   "source": []
  }
 ],
 "metadata": {
  "accelerator": "GPU",
  "colab": {
   "collapsed_sections": [],
   "name": "ode_cifar10.ipynb",
   "provenance": []
  },
  "kernelspec": {
   "display_name": "Environment (conda_tensorflow_p36)",
   "language": "python",
   "name": "conda_tensorflow_p36"
  },
  "language_info": {
   "codemirror_mode": {
    "name": "ipython",
    "version": 3
   },
   "file_extension": ".py",
   "mimetype": "text/x-python",
   "name": "python",
   "nbconvert_exporter": "python",
   "pygments_lexer": "ipython3",
   "version": "3.6.5"
  }
 },
 "nbformat": 4,
 "nbformat_minor": 2
}
