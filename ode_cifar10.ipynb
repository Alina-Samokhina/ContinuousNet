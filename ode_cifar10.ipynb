{
 "cells": [
  {
   "cell_type": "code",
   "execution_count": 2,
   "metadata": {
    "colab": {
     "base_uri": "https://localhost:8080/",
     "height": 331
    },
    "colab_type": "code",
    "executionInfo": {
     "elapsed": 29919,
     "status": "ok",
     "timestamp": 1575329660893,
     "user": {
      "displayName": "Alejandro Queiruga",
      "photoUrl": "",
      "userId": "08519531982283031247"
     },
     "user_tz": 480
    },
    "id": "Zl8boBpbFwUl",
    "outputId": "17afef30-be4a-41e0-a820-b588134b6994"
   },
   "outputs": [
    {
     "name": "stdout",
     "output_type": "stream",
     "text": [
      "Collecting git+https://github.com/rtqichen/torchdiffeq.git\n",
      "  Cloning https://github.com/rtqichen/torchdiffeq.git to /tmp/pip-req-build-6kxtxqep\n",
      "Requirement already satisfied (use --upgrade to upgrade): torchdiffeq==0.0.1 from git+https://github.com/rtqichen/torchdiffeq.git in /home/ubuntu/.local/lib/python3.6/site-packages\n",
      "Requirement already satisfied: torch>=0.4.1 in /home/ubuntu/.local/lib/python3.6/site-packages (from torchdiffeq==0.0.1) (1.3.1)\n",
      "Requirement already satisfied: numpy in /home/ubuntu/anaconda3/envs/tensorflow_p36/lib/python3.6/site-packages (from torch>=0.4.1->torchdiffeq==0.0.1) (1.16.4)\n",
      "Building wheels for collected packages: torchdiffeq\n",
      "  Running setup.py bdist_wheel for torchdiffeq ... \u001b[?25ldone\n",
      "\u001b[?25h  Stored in directory: /tmp/pip-ephem-wheel-cache-1m5i7zfz/wheels/f1/89/ce/78b4c1aabbb8dad56a2dbd776f9ffcbeca103b2ddae40d094b\n",
      "Successfully built torchdiffeq\n",
      "\u001b[33mYou are using pip version 10.0.1, however version 19.3.1 is available.\n",
      "You should consider upgrading via the 'pip install --upgrade pip' command.\u001b[0m\n"
     ]
    }
   ],
   "source": [
    "!pip install --user git+https://github.com/rtqichen/torchdiffeq.git\n",
    "\n",
    "project_dir = \"odenet\"\n",
    "import sys\n",
    "if False: # On colab\n",
    "    from google.colab import drive\n",
    "    drive.mount('/content/drive',force_remount=True)\n",
    "    root = \"/content/drive/My Drive/Colab Notebooks/\"+project_dir\n",
    "    sys.path.append(root)\n",
    "else: # Local\n",
    "    root = './'"
   ]
  },
  {
   "cell_type": "code",
   "execution_count": 1,
   "metadata": {},
   "outputs": [
    {
     "name": "stdout",
     "output_type": "stream",
     "text": [
      "Collecting torchvision\n",
      "\u001b[?25l  Downloading https://files.pythonhosted.org/packages/9b/e2/2b1f88a363ae37b2ba52cfb785ddfb3dd5f7e7ec9459e96fd8299b84ae39/torchvision-0.4.2-cp36-cp36m-manylinux1_x86_64.whl (10.2MB)\n",
      "\u001b[K    100% |████████████████████████████████| 10.2MB 5.1MB/s \n",
      "\u001b[?25hRequirement already satisfied: torch==1.3.1 in /home/ubuntu/.local/lib/python3.6/site-packages (from torchvision) (1.3.1)\n",
      "Requirement already satisfied: pillow>=4.1.1 in /home/ubuntu/anaconda3/envs/tensorflow_p36/lib/python3.6/site-packages (from torchvision) (5.2.0)\n",
      "Requirement already satisfied: six in /home/ubuntu/anaconda3/envs/tensorflow_p36/lib/python3.6/site-packages (from torchvision) (1.11.0)\n",
      "Requirement already satisfied: numpy in /home/ubuntu/anaconda3/envs/tensorflow_p36/lib/python3.6/site-packages (from torchvision) (1.16.4)\n",
      "Installing collected packages: torchvision\n",
      "Successfully installed torchvision-0.4.2\n",
      "\u001b[33mYou are using pip version 10.0.1, however version 19.3.1 is available.\n",
      "You should consider upgrading via the 'pip install --upgrade pip' command.\u001b[0m\n"
     ]
    }
   ],
   "source": [
    "# For the aws instance\n",
    "!pip install --user git+https://github.com/rtqichen/torchdiffeq.git\n",
    "!pip install --user torchvision"
   ]
  },
  {
   "cell_type": "code",
   "execution_count": 33,
   "metadata": {
    "colab": {
     "base_uri": "https://localhost:8080/",
     "height": 55
    },
    "colab_type": "code",
    "executionInfo": {
     "elapsed": 31994,
     "status": "ok",
     "timestamp": 1575329666033,
     "user": {
      "displayName": "Alejandro Queiruga",
      "photoUrl": "",
      "userId": "08519531982283031247"
     },
     "user_tz": 480
    },
    "id": "ilNKAEHQFwUq",
    "outputId": "c3d18af9-127c-449c-ee07-431ffabfa048"
   },
   "outputs": [],
   "source": [
    "import torch\n",
    "from matplotlib import pylab as plt\n",
    "from odenet import datasets\n",
    "from odenet.odenet_cifar10 import ODEResNet\n",
    "from odenet import refine_train\n",
    "\n",
    "import importlib\n",
    "importlib.reload(refine_train)\n",
    "from odenet.helper import set_seed, get_device, which_device\n",
    "#importlib.reload(odenet_cifar10)"
   ]
  },
  {
   "cell_type": "code",
   "execution_count": 2,
   "metadata": {},
   "outputs": [
    {
     "name": "stdout",
     "output_type": "stream",
     "text": [
      "Connected to a GPU\n"
     ]
    }
   ],
   "source": [
    "set_seed()\n",
    "device = get_device()"
   ]
  },
  {
   "cell_type": "code",
   "execution_count": 3,
   "metadata": {
    "colab": {
     "base_uri": "https://localhost:8080/",
     "height": 124
    },
    "colab_type": "code",
    "executionInfo": {
     "elapsed": 42816,
     "status": "ok",
     "timestamp": 1575329677116,
     "user": {
      "displayName": "Alejandro Queiruga",
      "photoUrl": "",
      "userId": "08519531982283031247"
     },
     "user_tz": 480
    },
    "id": "thZA-eE7FwUt",
    "outputId": "5ebff6e0-a541-41b3-aa14-50af1d26490b"
   },
   "outputs": [
    {
     "name": "stdout",
     "output_type": "stream",
     "text": [
      "Files already downloaded and verified\n",
      "Files already downloaded and verified\n",
      "Files already downloaded and verified\n"
     ]
    }
   ],
   "source": [
    "refset,trainset,trainloader,testset,testloader \\\n",
    "    = datasets.get_dataset('CIFAR10',root='../data/')"
   ]
  },
  {
   "cell_type": "code",
   "execution_count": 23,
   "metadata": {
    "colab": {
     "base_uri": "https://localhost:8080/",
     "height": 284
    },
    "colab_type": "code",
    "executionInfo": {
     "elapsed": 118565,
     "status": "ok",
     "timestamp": 1575321911306,
     "user": {
      "displayName": "Alejandro Queiruga",
      "photoUrl": "",
      "userId": "08519531982283031247"
     },
     "user_tz": 480
    },
    "id": "-iPXuJ-nFwUx",
    "outputId": "3ede71a3-379b-4928-b813-5a81ed0427be"
   },
   "outputs": [
    {
     "data": {
      "text/plain": [
       "<matplotlib.image.AxesImage at 0x7fea00138208>"
      ]
     },
     "execution_count": 23,
     "metadata": {},
     "output_type": "execute_result"
    },
    {
     "data": {
      "image/png": "[encoded data removed]",
      "text/plain": [
       "<Figure size 432x288 with 1 Axes>"
      ]
     },
     "metadata": {},
     "output_type": "display_data"
    }
   ],
   "source": [
    "plt.imshow(refset.data[6],cmap='gray')"
   ]
  },
  {
   "cell_type": "raw",
   "metadata": {},
   "source": [
    "def do_a_train_set(ALPHA,method, N_epochs, N_adapt, lr):\n",
    "    model = ODEResNet(ALPHA=ALPHA,method=method,in_channels=3).to(device)\n",
    "    res = refine_train.train_adapt(model, trainloader, torch.nn.CrossEntropyLoss(),\n",
    "                N_epochs, N_adapt, lr=lr, lr_decay=0.1,\n",
    "                device=device)\n",
    "    plt.semilogy(res[1])\n",
    "    for r in res[2]:\n",
    "        plt.axvline(r,color='k')\n",
    "    return res"
   ]
  },
  {
   "cell_type": "code",
   "execution_count": 36,
   "metadata": {},
   "outputs": [
    {
     "name": "stdout",
     "output_type": "stream",
     "text": [
      "Starting with  100666 with lr =  0.0001\n",
      "tensor(1.7048)\n",
      "Adapting to  197658 with lr =  1e-05\n",
      "tensor(1.8150)\n",
      "Adapting to  391642 with lr =  1e-05\n",
      "tensor(1.8919)\n",
      "Adapting to  779610 with lr =  1.0000000000000002e-06\n",
      "tensor(2.1390)\n",
      "Starting with  100666 with lr =  0.0001\n",
      "tensor(2.1617)\n",
      "Adapting to  197658 with lr =  1e-05\n",
      "tensor(1.9149)\n",
      "Adapting to  391642 with lr =  1e-05\n",
      "tensor(1.8997)\n",
      "Adapting to  779610 with lr =  1.0000000000000002e-06\n",
      "tensor(1.9650)\n",
      "Starting with  100666 with lr =  0.0001\n",
      "tensor(3.0239)\n",
      "Adapting to  197658 with lr =  1e-05\n",
      "tensor(2.1684)\n",
      "Adapting to  391642 with lr =  1e-05\n",
      "tensor(2.0158)\n",
      "Adapting to  779610 with lr =  1.0000000000000002e-06\n",
      "tensor(1.8968)\n"
     ]
    },
    {
     "data": {
      "image/png": "[encoded data removed]",
      "text/plain": [
       "<Figure size 432x288 with 1 Axes>"
      ]
     },
     "metadata": {},
     "output_type": "display_data"
    }
   ],
   "source": [
    "stash = {}\n",
    "for method in ['euler','midpoint','rk4']:\n",
    "    res = do_a_train_set(16,method,5,4, 0.1)\n",
    "    stash[method] = res"
   ]
  },
  {
   "cell_type": "code",
   "execution_count": 41,
   "metadata": {},
   "outputs": [
    {
     "data": {
      "image/png": "[encoded data removed]",
      "text/plain": [
       "<Figure size 432x288 with 1 Axes>"
      ]
     },
     "metadata": {},
     "output_type": "display_data"
    }
   ],
   "source": [
    "for k,(models,losses,refine_steps) in stash.items():\n",
    "    plt.semilogy(losses,label=k)\n",
    "    for r in refine_steps:\n",
    "        plt.axvline(r,color='k')\n",
    "plt.ylim(top=6)\n",
    "plt.legend()\n",
    "plt.show()"
   ]
  },
  {
   "cell_type": "code",
   "execution_count": 42,
   "metadata": {},
   "outputs": [
    {
     "name": "stdout",
     "output_type": "stream",
     "text": [
      "euler\n",
      "tensor(0.3125)\n",
      "tensor(0.2656)\n",
      "tensor(0.3047)\n",
      "tensor(0.2188)\n",
      "midpoint\n",
      "tensor(0.2266)\n",
      "tensor(0.2344)\n",
      "tensor(0.3438)\n",
      "tensor(0.2812)\n",
      "rk4\n",
      "tensor(0.2031)\n",
      "tensor(0.2578)\n",
      "tensor(0.2969)\n",
      "tensor(0.3516)\n"
     ]
    }
   ],
   "source": [
    "for k,(model_list,losses,refine_steps) in stash.items():\n",
    "    print(k)\n",
    "    for m in model_list:\n",
    "        print(refine_train.model_acc(m,testloader))"
   ]
  },
  {
   "cell_type": "code",
   "execution_count": null,
   "metadata": {
    "colab": {},
    "colab_type": "code",
    "id": "suJisKKkFwVG",
    "outputId": "f06c0255-de54-4c1d-828b-39e8abde3158"
   },
   "outputs": [
    {
     "data": {
      "text/plain": [
       "['airplane',\n",
       " 'automobile',\n",
       " 'bird',\n",
       " 'cat',\n",
       " 'deer',\n",
       " 'dog',\n",
       " 'frog',\n",
       " 'horse',\n",
       " 'ship',\n",
       " 'truck']"
      ]
     },
     "execution_count": 18,
     "metadata": {
      "tags": []
     },
     "output_type": "execute_result"
    }
   ],
   "source": [
    "refset.classes"
   ]
  },
  {
   "cell_type": "code",
   "execution_count": null,
   "metadata": {
    "colab": {},
    "colab_type": "code",
    "id": "4lMWqWVBFwVI"
   },
   "outputs": [],
   "source": []
  }
 ],
 "metadata": {
  "accelerator": "GPU",
  "colab": {
   "collapsed_sections": [],
   "name": "ode_cifar10.ipynb",
   "provenance": []
  },
  "kernelspec": {
   "display_name": "Environment (conda_tensorflow_p36)",
   "language": "python",
   "name": "conda_tensorflow_p36"
  },
  "language_info": {
   "codemirror_mode": {
    "name": "ipython",
    "version": 3
   },
   "file_extension": ".py",
   "mimetype": "text/x-python",
   "name": "python",
   "nbconvert_exporter": "python",
   "pygments_lexer": "ipython3",
   "version": "3.6.5"
  }
 },
 "nbformat": 4,
 "nbformat_minor": 2
}
